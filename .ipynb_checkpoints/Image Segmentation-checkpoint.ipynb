{
 "cells": [
  {
   "cell_type": "code",
   "execution_count": 72,
   "metadata": {},
   "outputs": [],
   "source": [
    "from PIL import Image\n",
    "import matplotlib.image as mpimg\n",
    "import matplotlib.pyplot as plt\n",
    "import glob\n",
    "import os\n",
    "import scipy.io\n",
    "import numpy as np\n",
    "import pandas as pd\n",
    "import math\n",
    "from sklearn.cluster import SpectralClustering"
   ]
  },
  {
   "cell_type": "code",
   "execution_count": 86,
   "metadata": {},
   "outputs": [],
   "source": [
    "def SegmentImages(trainDataPath,trainGroundTruth):\n",
    "    \n",
    "    \n",
    "    for filename in glob.glob(trainDataPath+\"\\\\\"+\"*.jpg\"): \n",
    "        #reading files from training data\n",
    "        \n",
    "        \n",
    "        img = mpimg.imread(filename,format=\"jpg\")\n",
    "        \n",
    "        rows = len(img)\n",
    "        cols = len(img[0])\n",
    "    \n",
    "        labels , clusters = Kmeans(img,3)\n",
    "        print(\"Image After Clustering \")\n",
    "        plt.imshow(labels)\n",
    "        plt.show()\n",
    "        \n",
    "        labelsAs1D = np.reshape(labels,154401)\n",
    "        \n",
    "        #print(f\" {labelsAs1D}\")\n",
    "\n",
    "        \n",
    "        \n",
    "        \n",
    "        #reading files from ground truth\n",
    "        filename_w_ext = os.path.basename(filename)\n",
    "        imageName, file_extension = os.path.splitext(filename_w_ext) \n",
    "        mat = scipy.io.loadmat(trainGroundTruth+\"\\\\\"+imageName+\".mat\")\n",
    "        \n",
    "        \n",
    "        \n",
    "        numberOfImages = len(mat['groundTruth'][0])\n",
    "        fig , ax = plt.subplots(1,numberOfImages+1)\n",
    "        ax[0].imshow(img)\n",
    "        \n",
    "        for k in range(0,numberOfImages,1):\n",
    "            groundImage = mat['groundTruth'][0][k][0][0][0]\n",
    "            ax[k+1].imshow(groundImage)\n",
    "            \n",
    "        plt.show()\n",
    "        \n",
    "        for i in range(0,numberOfImages,1):\n",
    "            groundImage = mat['groundTruth'][0][i][0][0][0]\n",
    "            groundTruthAs1D = np.reshape(groundImage,154401)\n",
    "            matrix = pd.crosstab(labelsAs1D,groundTruthAs1D, rownames=['labels'], colnames=['img'])\n",
    "            #print(matrix)\n",
    "            #converting DataFrame to Numpy Array\n",
    "            matrix = matrix.values\n",
    "            fScore = getFScore(matrix)\n",
    "            conditionalEntropy = getConditionalEntropy(matrix)\n",
    "            print(f\"Scores against groundTruth image {i}:\")\n",
    "            print(\"fScore is \",fScore)\n",
    "            print(\"conditionalEntropy \",conditionalEntropy)\n",
    "            print(\"\\n\\n\")"
   ]
  },
  {
   "cell_type": "code",
   "execution_count": 88,
   "metadata": {},
   "outputs": [],
   "source": [
    "def Kmeans(arr, K):\n",
    "\n",
    "    centroids = generateCentroids(arr,K)\n",
    "    while(True):\n",
    "        labels = np.zeros((len(arr),len(arr[0])))\n",
    "        labels, newMeans = getLabels(arr,labels,len(arr),len(arr[0]),K,centroids)\n",
    "        newMeans = np.array(newMeans)\n",
    "        \n",
    "        if isEqual(newMeans,centroids):\n",
    "            break\n",
    "        else:\n",
    "            centroids = newMeans\n",
    "    \n",
    "    return labels , newMeans\n",
    "    "
   ]
  },
  {
   "cell_type": "code",
   "execution_count": 75,
   "metadata": {},
   "outputs": [],
   "source": [
    "def getFScore(matrix):\n",
    "    fScore = 0\n",
    "    for i in range(0,len(matrix),1):\n",
    "        rowSum = sum(matrix[i])\n",
    "        idx = matrix[i].argsort()[::-1]\n",
    "        #max element\n",
    "        maxElement = matrix[i][idx[0]]\n",
    "        sumArray = np.sum(matrix,axis=0)\n",
    "        colSum = sumArray[idx[0]]\n",
    "        score = ((2*maxElement) /(rowSum+colSum))\n",
    "        fScore = fScore +score\n",
    "    return (1/len(matrix))*fScore\n",
    "        \n",
    "    "
   ]
  },
  {
   "cell_type": "code",
   "execution_count": 76,
   "metadata": {},
   "outputs": [],
   "source": [
    "def getConditionalEntropy(matrix):\n",
    "    entropy = 0\n",
    "    for i in range(0,len(matrix),1):\n",
    "        rowSum = sum(matrix[i])\n",
    "        classEntropy = 0\n",
    "        for j in range(0,len(matrix[0]),1):\n",
    "            if(matrix[i][j] == 0):\n",
    "                classEntropy = classEntropy + 0\n",
    "            else:\n",
    "                element = (matrix[i][j]/rowSum) * math.log2(matrix[i][j]/rowSum)\n",
    "                classEntropy = classEntropy - element\n",
    "        temp = (rowSum / 154401)*classEntropy\n",
    "        entropy = entropy + temp\n",
    "    \n",
    "    return entropy\n",
    "        "
   ]
  },
  {
   "cell_type": "code",
   "execution_count": 89,
   "metadata": {},
   "outputs": [],
   "source": [
    "def assignLabels(pixel,K,centroids):\n",
    "    min = 1000000\n",
    "    index = -1\n",
    "    for i in range(0,K,1):\n",
    "        temp = eucl_dist(pixel,centroids[i])\n",
    "        if temp < min:\n",
    "            min = temp\n",
    "            index = i\n",
    "            \n",
    "    return index"
   ]
  },
  {
   "cell_type": "code",
   "execution_count": 90,
   "metadata": {},
   "outputs": [],
   "source": [
    "def getLabels(arr,labels,rows,columns,K,centroids):\n",
    "    \n",
    "    accumlatorClustering = intializeArray(len(centroids))\n",
    "    accumlatorClustering = np.array(accumlatorClustering)\n",
    "    \n",
    "    counters  = []\n",
    "    newMeans  = []\n",
    "    for k in range(0,len(centroids),1):\n",
    "        counters.append(0)\n",
    "        newMeans.append(0)\n",
    "    \n",
    "    counters = np.array(counters)\n",
    "    \n",
    "    for i in range(0,rows,1):\n",
    "        for j in range(0,columns,1):\n",
    "            labels[i][j] = assignLabels(arr[i][j],K,centroids)\n",
    "            accumlatorClustering[int(labels[i][j])] = accumlatorClustering[int(labels[i][j])] + arr[i][j]\n",
    "            counters[int(labels[i][j])] = counters[int(labels[i][j])] + 1\n",
    "            \n",
    "    for n in range(0,len(centroids),1):\n",
    "        if(counters[n] == 0 ):\n",
    "            newMeans[n] = accumlatorClustering[n]\n",
    "        else:\n",
    "            newMeans[n] = accumlatorClustering[n] // counters[n]\n",
    "        \n",
    "        \n",
    "    \n",
    "            \n",
    "    return labels,newMeans"
   ]
  },
  {
   "cell_type": "code",
   "execution_count": 91,
   "metadata": {},
   "outputs": [],
   "source": [
    "def generateCentroids(arr,K):\n",
    "    centroids = []\n",
    "    for i in range(0,K,1):\n",
    "        centroids.append(randomizePoints(arr))\n",
    "    centroids = np.array(centroids)\n",
    "    return centroids"
   ]
  },
  {
   "cell_type": "code",
   "execution_count": 92,
   "metadata": {},
   "outputs": [],
   "source": [
    "def randomizePoints(arr):\n",
    "    return arr[np.random.randint(0,len(arr))][np.random.randint(0,len(arr[0]))]   "
   ]
  },
  {
   "cell_type": "code",
   "execution_count": 81,
   "metadata": {},
   "outputs": [],
   "source": [
    "def eucl_dist(a, b):\n",
    "    a = a.astype(float)\n",
    "    b = b.astype(float)\n",
    "    return np.linalg.norm(a - b)"
   ]
  },
  {
   "cell_type": "code",
   "execution_count": 95,
   "metadata": {},
   "outputs": [],
   "source": [
    "def isEqual(arr1,arr2):\n",
    "    flag = 1\n",
    "    for i in range(0, len(arr1), 1):\n",
    "        for j in range(0, 3, 1):\n",
    "            if arr1[i][j] != arr2[i][j]:\n",
    "                flag = 0\n",
    "                break\n",
    "    return flag"
   ]
  },
  {
   "cell_type": "code",
   "execution_count": 94,
   "metadata": {},
   "outputs": [],
   "source": [
    "def intializeArray(size):\n",
    "    \n",
    "    arr = []\n",
    "    for i in range (0,size,1):\n",
    "        new = []\n",
    "        for j in range (0, 3):\n",
    "            new.append(0)\n",
    "        arr.append(new)\n",
    "    return arr"
   ]
  },
  {
   "cell_type": "code",
   "execution_count": 84,
   "metadata": {},
   "outputs": [],
   "source": [
    "trainDataPath = os.getcwd() + \"\\\\data\\\\images\\\\train\"\n",
    "trainGroundTruth = os.getcwd() + \"\\\\data\\\\groundTruth\\\\train\""
   ]
  },
  {
   "cell_type": "code",
   "execution_count": 96,
   "metadata": {
    "scrolled": false
   },
   "outputs": [
    {
     "name": "stdout",
     "output_type": "stream",
     "text": [
      "Image After Clustering \n"
     ]
    },
    {
     "data": {
      "image/png": "[encoded data removed]",
      "text/plain": [
       "<Figure size 432x288 with 1 Axes>"
      ]
     },
     "metadata": {
      "needs_background": "light"
     },
     "output_type": "display_data"
    },
    {
     "data": {
      "image/png": "[encoded data removed]",
      "text/plain": [
       "<Figure size 432x288 with 7 Axes>"
      ]
     },
     "metadata": {
      "needs_background": "light"
     },
     "output_type": "display_data"
    },
    {
     "name": "stdout",
     "output_type": "stream",
     "text": [
      "Scores against groundTruth image 0:\n",
      "fScore is  0.46215779659682577\n",
      "conditionalEntropy  2.3331256494596837\n",
      "\n",
      "\n",
      "\n",
      "Scores against groundTruth image 1:\n",
      "fScore is  0.48798563108143045\n",
      "conditionalEntropy  1.4276187292937526\n",
      "\n",
      "\n",
      "\n",
      "Scores against groundTruth image 2:\n",
      "fScore is  0.4639875260060016\n",
      "conditionalEntropy  2.2959506494975046\n",
      "\n",
      "\n",
      "\n",
      "Scores against groundTruth image 3:\n",
      "fScore is  0.4657706293200341\n",
      "conditionalEntropy  2.3012968114898156\n",
      "\n",
      "\n",
      "\n",
      "Scores against groundTruth image 4:\n",
      "fScore is  0.47255768478216187\n",
      "conditionalEntropy  2.6586141749299776\n",
      "\n",
      "\n",
      "\n",
      "Scores against groundTruth image 5:\n",
      "fScore is  0.4603762482636079\n",
      "conditionalEntropy  2.352705415994026\n",
      "\n",
      "\n",
      "\n"
     ]
    }
   ],
   "source": [
    "SegmentImages(trainDataPath,trainGroundTruth)"
   ]
  },
  {
   "cell_type": "code",
   "execution_count": null,
   "metadata": {},
   "outputs": [],
   "source": []
  }
 ],
 "metadata": {
  "kernelspec": {
   "display_name": "Python 3",
   "language": "python",
   "name": "python3"
  },
  "language_info": {
   "codemirror_mode": {
    "name": "ipython",
    "version": 3
   },
   "file_extension": ".py",
   "mimetype": "text/x-python",
   "name": "python",
   "nbconvert_exporter": "python",
   "pygments_lexer": "ipython3",
   "version": "3.7.4"
  }
 },
 "nbformat": 4,
 "nbformat_minor": 2
}
